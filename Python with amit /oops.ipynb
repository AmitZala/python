{
 "cells": [
  {
   "cell_type": "code",
   "execution_count": 1,
   "metadata": {},
   "outputs": [],
   "source": [
    "class Instructor:\n",
    "    pass"
   ]
  },
  {
   "cell_type": "code",
   "execution_count": 3,
   "metadata": {},
   "outputs": [],
   "source": [
    "Instructor_1 = Instructor()"
   ]
  },
  {
   "cell_type": "code",
   "execution_count": 4,
   "metadata": {},
   "outputs": [
    {
     "name": "stdout",
     "output_type": "stream",
     "text": [
      "<class '__main__.Instructor'>\n"
     ]
    }
   ],
   "source": [
    "print(type(Instructor_1))"
   ]
  },
  {
   "cell_type": "markdown",
   "metadata": {},
   "source": [
    "# Init"
   ]
  },
  {
   "cell_type": "code",
   "execution_count": 23,
   "metadata": {},
   "outputs": [],
   "source": [
    "class instructor:\n",
    "\n",
    "    def __init__(self):\n",
    "        print('Creating a new object')\n",
    "    \n",
    "    def multi(self,a,b):\n",
    "        \"\"\"this is new method\"\"\"\n",
    "        d=a*b\n",
    "        return d\n",
    "\n",
    "    def add(self,a,b):\n",
    "        \"\"\"this is add function\"\"\"\n",
    "        c = a + b\n",
    "        return c "
   ]
  },
  {
   "cell_type": "code",
   "execution_count": 24,
   "metadata": {},
   "outputs": [
    {
     "name": "stdout",
     "output_type": "stream",
     "text": [
      "Creating a new object\n"
     ]
    }
   ],
   "source": [
    "a = instructor()\n",
    "\n"
   ]
  },
  {
   "cell_type": "code",
   "execution_count": 25,
   "metadata": {},
   "outputs": [
    {
     "data": {
      "text/plain": [
       "6"
      ]
     },
     "execution_count": 25,
     "metadata": {},
     "output_type": "execute_result"
    }
   ],
   "source": [
    "\n",
    "a.multi(2,3)"
   ]
  },
  {
   "cell_type": "code",
   "execution_count": 26,
   "metadata": {},
   "outputs": [
    {
     "data": {
      "text/plain": [
       "3"
      ]
     },
     "execution_count": 26,
     "metadata": {},
     "output_type": "execute_result"
    }
   ],
   "source": [
    "a.add(1,2)"
   ]
  },
  {
   "cell_type": "code",
   "execution_count": 118,
   "metadata": {},
   "outputs": [],
   "source": [
    "class instructor:\n",
    "\n",
    "    followers=0 #Class object variable\n",
    "\n",
    "    def __init__(self,name,address):\n",
    "        self.name=name\n",
    "        self.address=address\n",
    "    \n",
    "    def display(self):\n",
    "        return 'hello'\n",
    "\n",
    "    def n_1(self,subject_name):\n",
    "        return(f\"hello, I am {self.name} and i teach {subject_name}\")\n",
    "\n",
    "    def update_followers(self,follower_name):\n",
    "        self.followers += 1\n",
    "        return follower_name\n",
    "        "
   ]
  },
  {
   "cell_type": "code",
   "execution_count": 119,
   "metadata": {},
   "outputs": [],
   "source": [
    "i = instructor('amit','gandhinagar')\n",
    "j = instructor(\"yash\",\"veraval\")"
   ]
  },
  {
   "cell_type": "code",
   "execution_count": 120,
   "metadata": {},
   "outputs": [
    {
     "name": "stdout",
     "output_type": "stream",
     "text": [
      "gandhinagar\n",
      "amit\n",
      "yash\n",
      "hello\n",
      "amit\n"
     ]
    }
   ],
   "source": [
    "print(i.address)\n",
    "print(i.name)\n",
    "print(j.name)\n",
    "print(i.display())\n",
    "print(i.name)\n"
   ]
  },
  {
   "cell_type": "code",
   "execution_count": 121,
   "metadata": {},
   "outputs": [
    {
     "name": "stdout",
     "output_type": "stream",
     "text": [
      "hello, I am amit and i teach python\n"
     ]
    }
   ],
   "source": [
    "print(i.n_1('python'))\n"
   ]
  },
  {
   "cell_type": "code",
   "execution_count": 122,
   "metadata": {},
   "outputs": [
    {
     "name": "stdout",
     "output_type": "stream",
     "text": [
      "payal\n",
      "renu\n",
      "1\n",
      "1\n"
     ]
    }
   ],
   "source": [
    "print(i.update_followers('payal'))\n",
    "print(j.update_followers('renu'))\n",
    "print(i.followers)\n",
    "print(j.followers)"
   ]
  },
  {
   "cell_type": "code",
   "execution_count": 123,
   "metadata": {},
   "outputs": [
    {
     "name": "stdout",
     "output_type": "stream",
     "text": [
      "radhu\n",
      "nayan\n",
      "2\n",
      "2\n"
     ]
    }
   ],
   "source": [
    "print(i.update_followers('radhu'))\n",
    "print(j.update_followers('nayan'))\n",
    "print(i.followers)\n",
    "print(j.followers)"
   ]
  },
  {
   "cell_type": "code",
   "execution_count": null,
   "metadata": {},
   "outputs": [],
   "source": []
  },
  {
   "cell_type": "markdown",
   "metadata": {},
   "source": [
    "# Inheritance\n",
    "\n",
    "#### 1.Single Inheritance\n",
    "#### 2.Multiple Inheritance\n",
    "#### 3.Multilevel Inheritance\n",
    "#### 4.Hierarchical Inheritance\n",
    "#### 5.Hybrid Inheritance"
   ]
  },
  {
   "cell_type": "markdown",
   "metadata": {},
   "source": [
    "## 1. Single Inheritance"
   ]
  },
  {
   "cell_type": "code",
   "execution_count": 2,
   "metadata": {},
   "outputs": [],
   "source": [
    "# Example of single inheritance.\n",
    "class Human():\n",
    "    def __init__(self,num_heart):\n",
    "        self.num_heart = num_heart\n",
    "        self.num_eyes=2\n",
    "        self.num_nose=1\n",
    "\n",
    "    def eat(self):\n",
    "        print('I can eat.')\n",
    "\n",
    "    def work(self):\n",
    "        print('I can work.')"
   ]
  },
  {
   "cell_type": "code",
   "execution_count": 10,
   "metadata": {},
   "outputs": [],
   "source": [
    "class Male(Human):\n",
    "    def __init__(self,name,heart):\n",
    "        super().__init__(heart)\n",
    "        self.name=name\n",
    "\n",
    "    def office(self):\n",
    "        print('I can go office to earn.')\n",
    "    def work(self):\n",
    "        super().work()\n",
    "        print('I can code.')\n",
    "    \n",
    "    def display(self):\n",
    "        print(f\"Hi, I am {self.name} and I have {self.num_heart} heart.\")\n",
    "\n",
    "        "
   ]
  },
  {
   "cell_type": "code",
   "execution_count": 84,
   "metadata": {},
   "outputs": [
    {
     "data": {
      "text/plain": [
       "\"class Female(Human):\\n\\n    def homemaker(self):\\n        print('I can cook at home.')\""
      ]
     },
     "execution_count": 84,
     "metadata": {},
     "output_type": "execute_result"
    }
   ],
   "source": [
    "\"\"\"class Female(Human):\n",
    "\n",
    "    def homemaker(self):\n",
    "        print('I can cook at home.')\"\"\""
   ]
  },
  {
   "cell_type": "code",
   "execution_count": 11,
   "metadata": {},
   "outputs": [],
   "source": [
    "amit = Male(\"Akash\",1)\n",
    "renuka = Female(1)"
   ]
  },
  {
   "cell_type": "code",
   "execution_count": 12,
   "metadata": {},
   "outputs": [
    {
     "name": "stdout",
     "output_type": "stream",
     "text": [
      "I can eat.\n",
      "I can go office to earn.\n",
      "I can work.\n",
      "I can code.\n",
      "2\n",
      "1\n",
      "Akash\n",
      "Hi, I am Akash and I have 1 heart.\n"
     ]
    }
   ],
   "source": [
    "amit.eat()\n",
    "amit.office()\n",
    "amit.work()\n",
    "print(amit.num_eyes)\n",
    "print(amit.num_nose)\n",
    "print(amit.name)\n",
    "amit.display()"
   ]
  },
  {
   "cell_type": "code",
   "execution_count": 83,
   "metadata": {},
   "outputs": [],
   "source": [
    "#renuka.homemaker()\n",
    "#renuka.work()"
   ]
  },
  {
   "cell_type": "markdown",
   "metadata": {},
   "source": [
    "## 2. Multiple Inheritance"
   ]
  },
  {
   "cell_type": "code",
   "execution_count": 60,
   "metadata": {},
   "outputs": [],
   "source": [
    "class Human():\n",
    "\n",
    "    def __init__(self, num_heart):\n",
    "        print('Calling init from Human')\n",
    "        self.num_eyes = 2\n",
    "        self.num_nose = 1\n",
    "        self.num_heart = num_heart\n",
    "\n",
    "    def eat(self):\n",
    "        print(\"I can eat\")\n",
    "\n",
    "    def work(self):\n",
    "        print(\"I can work.\")\n",
    "    "
   ]
  },
  {
   "cell_type": "code",
   "execution_count": 61,
   "metadata": {},
   "outputs": [],
   "source": [
    "class Male():\n",
    "\n",
    "    def __init__(self,name):\n",
    "        print('Calling init from Male')\n",
    "        self.name=name\n",
    "\n",
    "    def flirt(self):\n",
    "        print(\"I can flirt.\")\n",
    "    \n",
    "    def work(self):\n",
    "        print('I can code.')\n",
    "    \n"
   ]
  },
  {
   "cell_type": "code",
   "execution_count": 80,
   "metadata": {},
   "outputs": [],
   "source": [
    "class Boy(Human,Male):\n",
    "    \n",
    "    def __init__(self,name,language,num_heart):\n",
    "        Male.__init__(self,name)\n",
    "        Human.__init__(self,num_heart)\n",
    "        self.language=language\n",
    "        \n",
    "    def sleep(self):\n",
    "        print(\"I can sleep\")\n",
    "        \n",
    "    def work (self):\n",
    "        print('I can test.')\n",
    "\n",
    "    def display(self):\n",
    "        print(f\"hi I am {self.name} and I work on {self.language}\")"
   ]
  },
  {
   "cell_type": "code",
   "execution_count": 82,
   "metadata": {},
   "outputs": [
    {
     "name": "stdout",
     "output_type": "stream",
     "text": [
      "Calling init from Male\n",
      "Calling init from Human\n",
      "1\n",
      "gujarati\n",
      "hi I am Amit and I work on gujarati\n"
     ]
    }
   ],
   "source": [
    "boy_1 = Boy(\"Amit\",'gujarati',1)\n",
    "print(boy_1.num_heart)\n",
    "print(boy_1.language)\n",
    "boy_1.display()"
   ]
  },
  {
   "cell_type": "code",
   "execution_count": 69,
   "metadata": {},
   "outputs": [
    {
     "name": "stdout",
     "output_type": "stream",
     "text": [
      "2\n",
      "1\n"
     ]
    }
   ],
   "source": [
    "print(boy_1.num_eyes)\n",
    "print(boy_1.num_nose)"
   ]
  },
  {
   "cell_type": "code",
   "execution_count": 57,
   "metadata": {},
   "outputs": [
    {
     "name": "stdout",
     "output_type": "stream",
     "text": [
      "I can flirt.\n",
      "I can test.\n"
     ]
    }
   ],
   "source": [
    "boy_1.flirt()\n",
    "boy_1.work()"
   ]
  },
  {
   "cell_type": "code",
   "execution_count": 58,
   "metadata": {},
   "outputs": [
    {
     "name": "stdout",
     "output_type": "stream",
     "text": [
      "I can code.\n",
      "I can work.\n"
     ]
    }
   ],
   "source": [
    "Male.work(boy_1)\n",
    "Human.work(boy_1)"
   ]
  },
  {
   "cell_type": "code",
   "execution_count": 59,
   "metadata": {},
   "outputs": [
    {
     "name": "stdout",
     "output_type": "stream",
     "text": [
      "[<class '__main__.Boy'>, <class '__main__.Human'>, <class '__main__.Male'>, <class 'object'>]\n"
     ]
    }
   ],
   "source": [
    "print(Boy.mro())"
   ]
  },
  {
   "cell_type": "code",
   "execution_count": null,
   "metadata": {},
   "outputs": [],
   "source": []
  },
  {
   "cell_type": "markdown",
   "metadata": {},
   "source": [
    "## 3.Multilevel Inheritance"
   ]
  },
  {
   "cell_type": "code",
   "execution_count": 2,
   "metadata": {},
   "outputs": [],
   "source": [
    "class Human():\n",
    "\n",
    "    def __init__(self,num_heart):\n",
    "        self.eyes=2\n",
    "        self.heart=num_heart\n",
    "\n",
    "\n",
    "    def eat(self):\n",
    "        print(\"I can eat\")\n",
    "\n",
    "    def work(self):\n",
    "        print(\"I can work\")"
   ]
  },
  {
   "cell_type": "code",
   "execution_count": 3,
   "metadata": {},
   "outputs": [],
   "source": [
    "class Male(Human):\n",
    "    \n",
    "    def sleep(self):\n",
    "        print(\"I can sleep whole day\")\n"
   ]
  },
  {
   "cell_type": "code",
   "execution_count": 4,
   "metadata": {},
   "outputs": [],
   "source": [
    "class Boy(Male):\n",
    "    \n",
    "    def work(self):\n",
    "        Human.work(self)\n",
    "        #super().work()\n",
    "        print(\"I can code.\")"
   ]
  },
  {
   "cell_type": "code",
   "execution_count": 5,
   "metadata": {},
   "outputs": [],
   "source": [
    "class programmer(Boy):\n",
    "\n",
    "    def work(self):\n",
    "        print(\"I can write programs\")\n"
   ]
  },
  {
   "cell_type": "code",
   "execution_count": 6,
   "metadata": {},
   "outputs": [],
   "source": [
    "boy2 = Boy(1)\n",
    "pro1 = programmer(1)"
   ]
  },
  {
   "cell_type": "code",
   "execution_count": 7,
   "metadata": {},
   "outputs": [
    {
     "name": "stdout",
     "output_type": "stream",
     "text": [
      "I can eat\n",
      "I can sleep whole day\n"
     ]
    }
   ],
   "source": [
    "boy2.eat()\n",
    "boy2.sleep()"
   ]
  },
  {
   "cell_type": "code",
   "execution_count": 8,
   "metadata": {},
   "outputs": [
    {
     "name": "stdout",
     "output_type": "stream",
     "text": [
      "I can work\n",
      "I can code.\n"
     ]
    }
   ],
   "source": [
    "boy2.work()"
   ]
  },
  {
   "cell_type": "code",
   "execution_count": 9,
   "metadata": {},
   "outputs": [
    {
     "name": "stdout",
     "output_type": "stream",
     "text": [
      "I can write programs\n"
     ]
    }
   ],
   "source": [
    "pro1.work()"
   ]
  },
  {
   "cell_type": "code",
   "execution_count": 11,
   "metadata": {},
   "outputs": [
    {
     "name": "stdout",
     "output_type": "stream",
     "text": [
      "2\n"
     ]
    }
   ],
   "source": [
    "print(boy2.eyes)"
   ]
  },
  {
   "cell_type": "code",
   "execution_count": null,
   "metadata": {},
   "outputs": [],
   "source": []
  }
 ],
 "metadata": {
  "kernelspec": {
   "display_name": "Python 3.8.10 64-bit",
   "language": "python",
   "name": "python3"
  },
  "language_info": {
   "codemirror_mode": {
    "name": "ipython",
    "version": 3
   },
   "file_extension": ".py",
   "mimetype": "text/x-python",
   "name": "python",
   "nbconvert_exporter": "python",
   "pygments_lexer": "ipython3",
   "version": "3.8.10"
  },
  "orig_nbformat": 4,
  "vscode": {
   "interpreter": {
    "hash": "e7370f93d1d0cde622a1f8e1c04877d8463912d04d973331ad4851f04de6915a"
   }
  }
 },
 "nbformat": 4,
 "nbformat_minor": 2
}
