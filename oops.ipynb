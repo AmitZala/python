{
 "cells": [
  {
   "cell_type": "code",
   "execution_count": 2,
   "id": "870e5894-03b9-4295-afdc-09ac1637e76a",
   "metadata": {},
   "outputs": [],
   "source": [
    " class test():\n",
    "        pass"
   ]
  },
  {
   "cell_type": "code",
   "execution_count": 14,
   "id": "f2664799-bbee-4b84-b5fc-c22fba7012d9",
   "metadata": {},
   "outputs": [],
   "source": [
    "class amit():\n",
    "    class_amit='amit'\n",
    "    def welcome_msg(self ):\n",
    "        print(\"welcome to my home\")\n",
    "        \n",
    "    def welcome1(self):\n",
    "        print(\"dear amit\")\n",
    "              "
   ]
  },
  {
   "cell_type": "code",
   "execution_count": 15,
   "id": "f7d8e7c2-c999-4c90-a7a5-313fa4cf7b3a",
   "metadata": {},
   "outputs": [],
   "source": [
    "b = amit()"
   ]
  },
  {
   "cell_type": "code",
   "execution_count": 10,
   "id": "b68b9bb2-78c3-41d8-965b-33eeeb5a7a5f",
   "metadata": {},
   "outputs": [
    {
     "name": "stdout",
     "output_type": "stream",
     "text": [
      "dear amit\n"
     ]
    }
   ],
   "source": [
    "b.welcome1()"
   ]
  },
  {
   "cell_type": "code",
   "execution_count": 16,
   "id": "7a4fa566-6501-4803-ac73-5595d86473a7",
   "metadata": {},
   "outputs": [
    {
     "data": {
      "text/plain": [
       "'amit'"
      ]
     },
     "execution_count": 16,
     "metadata": {},
     "output_type": "execute_result"
    }
   ],
   "source": [
    "b.class_amit"
   ]
  },
  {
   "cell_type": "code",
   "execution_count": 23,
   "id": "895ea862-911e-41cd-9998-a852788bb0b3",
   "metadata": {},
   "outputs": [],
   "source": [
    "class amit_1():\n",
    "    \n",
    "    def __init__(self,course,duration,mentor):\n",
    "        self.course= course\n",
    "        self.duration= duration\n",
    "        self.mentor= mentor\n",
    "        \n",
    "    def show_mentor(self):\n",
    "        print(\"print mentor name\", self.mentor)\n",
    "         "
   ]
  },
  {
   "cell_type": "code",
   "execution_count": 24,
   "id": "bd5cfed1-6604-4e79-9ea5-d01204fe91d8",
   "metadata": {},
   "outputs": [],
   "source": [
    "a = amit_1('phy',4 ,'amitzala')"
   ]
  },
  {
   "cell_type": "code",
   "execution_count": 22,
   "id": "003a2f16-badc-44d2-8842-dd9956178077",
   "metadata": {},
   "outputs": [
    {
     "data": {
      "text/plain": [
       "4"
      ]
     },
     "execution_count": 22,
     "metadata": {},
     "output_type": "execute_result"
    }
   ],
   "source": [
    "a.duration"
   ]
  },
  {
   "cell_type": "code",
   "execution_count": 25,
   "id": "ca1b2f2c-0cd4-460c-b06b-26509a1f0258",
   "metadata": {},
   "outputs": [],
   "source": [
    "b =amit_1('chem',5,'bharat')"
   ]
  },
  {
   "cell_type": "code",
   "execution_count": 26,
   "id": "f66b97c1-58e9-4188-8a81-9605c8ce114e",
   "metadata": {},
   "outputs": [
    {
     "name": "stdout",
     "output_type": "stream",
     "text": [
      "print mentor name bharat\n"
     ]
    }
   ],
   "source": [
    "b.show_mentor()"
   ]
  },
  {
   "cell_type": "markdown",
   "id": "52129c5e-d4b6-4ffd-8fd0-dc59b9f4c5aa",
   "metadata": {},
   "source": [
    "# inheritance"
   ]
  },
  {
   "cell_type": "code",
   "execution_count": 27,
   "id": "982852cd-8e56-4f62-a8d0-19e27d00583e",
   "metadata": {},
   "outputs": [],
   "source": [
    "class pwskills():\n",
    "    \n",
    "    def pwskills(self):\n",
    "        print(\"this is my pwskill class\")\n",
    "        \n",
    "    "
   ]
  },
  {
   "cell_type": "code",
   "execution_count": 28,
   "id": "dbdc1b40-1cb6-4401-bbae-2ae558c481e7",
   "metadata": {},
   "outputs": [],
   "source": [
    "class student(pwskills):\n",
    "    pass\n",
    "    "
   ]
  },
  {
   "cell_type": "code",
   "execution_count": 29,
   "id": "35496d82-e85d-4e6a-9c86-5962383d014e",
   "metadata": {},
   "outputs": [
    {
     "name": "stdout",
     "output_type": "stream",
     "text": [
      "this is my pwskill class\n"
     ]
    }
   ],
   "source": [
    "amit = student()\n",
    "amit.pwskills()"
   ]
  },
  {
   "cell_type": "code",
   "execution_count": 33,
   "id": "752cff57-43d6-49d1-ab9b-7a38b40715f3",
   "metadata": {},
   "outputs": [],
   "source": [
    "class mentor():\n",
    "    \n",
    "    def __init__(self, mentor_name, mentor_email_id, mentor_contact):\n",
    "        self.mentor_name = mentor_name\n",
    "        self.mentor_email_id = mentor_email_id\n",
    "        self.mentor_contact = mentor_contact\n",
    "    \n",
    "    def print_mentor_details(self):\n",
    "        print(self.mentor_name,self.mentor_email_id,self.mentor_contact)"
   ]
  },
  {
   "cell_type": "code",
   "execution_count": 34,
   "id": "14b265eb-d2f2-4c08-9466-e1746f86698c",
   "metadata": {},
   "outputs": [],
   "source": [
    "class dsm(mentor):\n",
    "    \n",
    "    def print_dsm(self):\n",
    "        print(\"this is my dsm class\")"
   ]
  },
  {
   "cell_type": "code",
   "execution_count": 36,
   "id": "c43216a8-8c31-4a28-bee5-94ee7032aa58",
   "metadata": {},
   "outputs": [],
   "source": [
    "d = dsm('amit','amitzala@live.com',909075170)"
   ]
  },
  {
   "cell_type": "code",
   "execution_count": 37,
   "id": "952a8fad-2bb3-4131-938b-1389d3e8d011",
   "metadata": {},
   "outputs": [
    {
     "data": {
      "text/plain": [
       "909075170"
      ]
     },
     "execution_count": 37,
     "metadata": {},
     "output_type": "execute_result"
    }
   ],
   "source": [
    "d.mentor_contact"
   ]
  },
  {
   "cell_type": "code",
   "execution_count": 44,
   "id": "c2e82b05-b206-4b69-ab20-b5c737342bcb",
   "metadata": {},
   "outputs": [],
   "source": [
    "class xyz():\n",
    "    \n",
    "    def test(self):\n",
    "        print(\"this is a part of xyz class\")\n",
    "        \n",
    "class child(xyz):\n",
    "    \n",
    "    def test(self):\n",
    "        super().test()\n",
    "        print('this is a part of child class')"
   ]
  },
  {
   "cell_type": "code",
   "execution_count": 45,
   "id": "eed952d9-e7c5-4423-b733-9eaf61f37d42",
   "metadata": {},
   "outputs": [],
   "source": [
    "a = child()"
   ]
  },
  {
   "cell_type": "code",
   "execution_count": 46,
   "id": "7798e1b9-976e-4e18-99c2-7c41671b1b17",
   "metadata": {},
   "outputs": [
    {
     "name": "stdout",
     "output_type": "stream",
     "text": [
      "this is a part of xyz class\n",
      "this is a part of child class\n"
     ]
    }
   ],
   "source": [
    "a.test()"
   ]
  },
  {
   "cell_type": "code",
   "execution_count": 49,
   "id": "c8832bd3-a863-41c2-ad22-c9c0aec13047",
   "metadata": {},
   "outputs": [],
   "source": [
    "class c1():\n",
    "    \n",
    "    def meth_c1(self):\n",
    "        print('this is a part of c1')\n",
    "        \n",
    "class c2(c1):\n",
    "    \n",
    "    def meth_c2(self):\n",
    "        print(\"this is a part of c2\")\n",
    "        \n",
    "class c3(c2):\n",
    "    \n",
    "    def meth_c3(self):\n",
    "        print(\"this is a part of c3\")\n",
    "        "
   ]
  },
  {
   "cell_type": "code",
   "execution_count": 50,
   "id": "84ad343b-ac8d-4a35-b501-4384b3932aea",
   "metadata": {},
   "outputs": [],
   "source": [
    "a = c2()\n",
    "b = c3()"
   ]
  },
  {
   "cell_type": "code",
   "execution_count": 51,
   "id": "a3ec41d1-a937-46a1-9296-007397cbaa55",
   "metadata": {},
   "outputs": [
    {
     "name": "stdout",
     "output_type": "stream",
     "text": [
      "this is a part of c1\n"
     ]
    }
   ],
   "source": [
    "a.meth_c1()"
   ]
  },
  {
   "cell_type": "code",
   "execution_count": 52,
   "id": "e779eabb-2133-4330-a77f-066f0e034957",
   "metadata": {},
   "outputs": [
    {
     "name": "stdout",
     "output_type": "stream",
     "text": [
      "this is a part of c1\n"
     ]
    }
   ],
   "source": [
    "b.meth_c1()"
   ]
  },
  {
   "cell_type": "code",
   "execution_count": 55,
   "id": "6e70faa4-3070-4f43-ad96-c56d155905ed",
   "metadata": {},
   "outputs": [],
   "source": [
    "class x1():\n",
    "    \n",
    "    def meth_x1(self):\n",
    "        print('this is a part of c1')\n",
    "\n",
    "class x2():\n",
    "    \n",
    "    def meth_x2(self):\n",
    "        print('this is a part of c2')\n",
    "        \n",
    "class x3(x1,x2):\n",
    "    \n",
    "    def meth_x3(self):\n",
    "        print('this is a part of c3')"
   ]
  },
  {
   "cell_type": "code",
   "execution_count": 56,
   "id": "a47a73d0-e8b5-4eb3-bb78-21f339bf9792",
   "metadata": {},
   "outputs": [],
   "source": [
    "a = x3()"
   ]
  },
  {
   "cell_type": "code",
   "execution_count": 57,
   "id": "02e1281a-6fed-41e1-8eb2-b91c5ef333c1",
   "metadata": {},
   "outputs": [
    {
     "name": "stdout",
     "output_type": "stream",
     "text": [
      "this is a part of c3\n"
     ]
    }
   ],
   "source": [
    "a.meth_x3()"
   ]
  },
  {
   "cell_type": "code",
   "execution_count": 58,
   "id": "7386b0c7-b105-4227-aef9-4389c6bcb65d",
   "metadata": {},
   "outputs": [
    {
     "name": "stdout",
     "output_type": "stream",
     "text": [
      "this is a part of c1\n"
     ]
    }
   ],
   "source": [
    "a.meth_x1()"
   ]
  },
  {
   "cell_type": "code",
   "execution_count": 59,
   "id": "80378276-f8e7-4f0d-9f36-1c1e95b1f09a",
   "metadata": {},
   "outputs": [
    {
     "name": "stdout",
     "output_type": "stream",
     "text": [
      "this is a part of c2\n"
     ]
    }
   ],
   "source": [
    "a.meth_x2()"
   ]
  },
  {
   "cell_type": "code",
   "execution_count": null,
   "id": "9f103ab1-0ffd-415c-bbb3-b5654393115e",
   "metadata": {},
   "outputs": [],
   "source": []
  },
  {
   "cell_type": "code",
   "execution_count": null,
   "id": "29a57ac5-6281-4dd2-ae45-2bd94f73865a",
   "metadata": {},
   "outputs": [],
   "source": []
  },
  {
   "cell_type": "code",
   "execution_count": 78,
   "id": "fabd19c9-2d15-4196-a671-21240fe7bb48",
   "metadata": {},
   "outputs": [],
   "source": [
    "class x1():\n",
    "    \n",
    "    def test(self):\n",
    "        print('this is a part of c1')\n",
    "\n",
    "class x2():\n",
    "    \n",
    "    def test(self):\n",
    "        print('this is a part of c2')\n",
    "        \n",
    "class x3(x1,x2):\n",
    "    \n",
    "    def meth_x3(self):\n",
    "        print('this is a part of c3')"
   ]
  },
  {
   "cell_type": "code",
   "execution_count": 79,
   "id": "cd653573-5c92-42c8-9d56-e85b37ac0fe3",
   "metadata": {},
   "outputs": [],
   "source": [
    "c = x3()"
   ]
  },
  {
   "cell_type": "code",
   "execution_count": 80,
   "id": "9d100054-fd32-4f51-a6d1-ef7f65a9c4c4",
   "metadata": {},
   "outputs": [
    {
     "name": "stdout",
     "output_type": "stream",
     "text": [
      "this is a part of c1\n"
     ]
    }
   ],
   "source": [
    "c.test()"
   ]
  },
  {
   "cell_type": "markdown",
   "id": "d54b2ffc-c44c-48e0-96df-207e28a00ae4",
   "metadata": {},
   "source": [
    "# MRO"
   ]
  },
  {
   "cell_type": "code",
   "execution_count": 63,
   "id": "a947e888-f829-4bbc-a17e-46162f3649e1",
   "metadata": {},
   "outputs": [],
   "source": [
    "class x1():\n",
    "    \n",
    "    def test(self):\n",
    "        print('this is a part of c1')\n",
    "\n",
    "class x2():\n",
    "    \n",
    "    def test(self):\n",
    "        print('this is a part of c2')\n",
    "        \n",
    "class x3(x2,x1):\n",
    "    \n",
    "    def meth_x3(self):\n",
    "        print('this is a part of c3')"
   ]
  },
  {
   "cell_type": "code",
   "execution_count": 64,
   "id": "3e9d3339-854b-4d33-b529-75a6ea6b0a10",
   "metadata": {},
   "outputs": [],
   "source": [
    "c = x3()"
   ]
  },
  {
   "cell_type": "code",
   "execution_count": 65,
   "id": "fdaf676b-51cd-47c9-b657-66c721085f16",
   "metadata": {},
   "outputs": [
    {
     "name": "stdout",
     "output_type": "stream",
     "text": [
      "this is a part of c2\n"
     ]
    }
   ],
   "source": [
    "c.test()"
   ]
  },
  {
   "cell_type": "markdown",
   "id": "2664d0ec-b1ae-4cd6-9787-8d2caa6e7025",
   "metadata": {},
   "source": [
    "# Polymorphism"
   ]
  },
  {
   "cell_type": "code",
   "execution_count": 16,
   "id": "5d773461-2978-4b39-bbe9-bf4f3b1c35b6",
   "metadata": {},
   "outputs": [],
   "source": [
    "class dsm:\n",
    "    def test(self):\n",
    "        print(\"this is a dsm\")\n",
    "        \n",
    "class web_dev():\n",
    "    def test(self):\n",
    "        print(\"this is a web_dev\")\n",
    "        \n",
    "def test_meth(x):\n",
    "    x.test()"
   ]
  },
  {
   "cell_type": "code",
   "execution_count": 17,
   "id": "0b3da4db-3ad2-44a5-92dc-0f235eaf0ee9",
   "metadata": {},
   "outputs": [],
   "source": [
    "a = dsm()\n",
    "b = web_dev()"
   ]
  },
  {
   "cell_type": "code",
   "execution_count": 18,
   "id": "ffc410e2-e567-4fd5-8ab9-ea6a8bc3764f",
   "metadata": {},
   "outputs": [
    {
     "name": "stdout",
     "output_type": "stream",
     "text": [
      "this is a dsm\n"
     ]
    }
   ],
   "source": [
    "test_meth(a)"
   ]
  },
  {
   "cell_type": "code",
   "execution_count": 19,
   "id": "5580e6b7-a57d-4dff-a37e-df3cf217864b",
   "metadata": {},
   "outputs": [
    {
     "name": "stdout",
     "output_type": "stream",
     "text": [
      "this is a web_dev\n"
     ]
    }
   ],
   "source": [
    "test_meth(b)"
   ]
  },
  {
   "cell_type": "markdown",
   "id": "82259382-8f98-4633-ba14-c06654d02638",
   "metadata": {},
   "source": [
    "# public, private protected --->  _ (single underscore) for protected, __ (double underscore) for private"
   ]
  },
  {
   "cell_type": "code",
   "execution_count": 56,
   "id": "a53ffd34-da92-4a9d-b2e6-a455a2992e04",
   "metadata": {},
   "outputs": [],
   "source": [
    "class mentor():\n",
    "    \n",
    "    class_var = 10\n",
    "    \n",
    "    def __init__(self, mentor_name, mentor_email_id, mentor_contact):\n",
    "        self._mentor_name = mentor_name\n",
    "        self.__mentor_email_id = mentor_email_id\n",
    "        self.mentor_contact = mentor_contact\n",
    "    \n",
    "    def print_mentor_details(self):\n",
    "        print(self._mentor_name,self.__mentor_email_id,self.mentor_contact)"
   ]
  },
  {
   "cell_type": "code",
   "execution_count": 57,
   "id": "32cbacd9-3fdd-4fb2-9f18-bf874d442f30",
   "metadata": {},
   "outputs": [],
   "source": [
    "z = mentor(\"amit\",\"amitzala@live.com\",909098998)"
   ]
  },
  {
   "cell_type": "code",
   "execution_count": 62,
   "id": "60342868-51ae-4691-83e5-32cf1fc63ffc",
   "metadata": {},
   "outputs": [
    {
     "data": {
      "text/plain": [
       "909098998"
      ]
     },
     "execution_count": 62,
     "metadata": {},
     "output_type": "execute_result"
    }
   ],
   "source": [
    "z.mentor_contact"
   ]
  },
  {
   "cell_type": "code",
   "execution_count": 63,
   "id": "f690a9ac-7dff-46c7-b2e3-b1a10b25ae26",
   "metadata": {},
   "outputs": [
    {
     "data": {
      "text/plain": [
       "'amit'"
      ]
     },
     "execution_count": 63,
     "metadata": {},
     "output_type": "execute_result"
    }
   ],
   "source": [
    "z._mentor_name"
   ]
  },
  {
   "cell_type": "code",
   "execution_count": 65,
   "id": "f6bae513-7643-4a60-b677-cc4db9e979b3",
   "metadata": {},
   "outputs": [
    {
     "data": {
      "text/plain": [
       "'amitzala@live.com'"
      ]
     },
     "execution_count": 65,
     "metadata": {},
     "output_type": "execute_result"
    }
   ],
   "source": [
    "z._mentor__mentor_email_id"
   ]
  },
  {
   "cell_type": "markdown",
   "id": "fe1ee383-f2d0-445a-a350-4fc12048f38f",
   "metadata": {},
   "source": [
    "# abtraction"
   ]
  },
  {
   "cell_type": "code",
   "execution_count": 70,
   "id": "f8dce381-94d8-4c88-ad1f-994b961c4c39",
   "metadata": {},
   "outputs": [],
   "source": [
    "from abc import ABC, abstractmethod, abstractproperty"
   ]
  },
  {
   "cell_type": "code",
   "execution_count": 72,
   "id": "b921e576-7ef5-4ce1-aca9-b892c131d8d5",
   "metadata": {},
   "outputs": [],
   "source": [
    "class pwskills(ABC):\n",
    "    @abstractproperty\n",
    "    def dsm_class(self):\n",
    "        pass\n",
    "    @abstractproperty\n",
    "    def mentor_name(self):\n",
    "        pass\n",
    "    @abstractproperty\n",
    "    def class_timing(self):\n",
    "        pass\n",
    "    @abstractproperty\n",
    "    def class_material(self):\n",
    "        pass"
   ]
  },
  {
   "cell_type": "code",
   "execution_count": 75,
   "id": "a1c4e23d-ae09-4b27-b2f2-fbd0d4a5308a",
   "metadata": {},
   "outputs": [],
   "source": [
    "class pwskills_mentor(pwskills):\n",
    "    @property\n",
    "    def dsm_class(self):\n",
    "        print(\"this is function of dsm class\")\n",
    "    \n",
    "    @property\n",
    "    def mentor_name(self):\n",
    "        print(\"this is a function of mentor name\")\n",
    "    \n",
    "    @property\n",
    "    def class_timing(self):\n",
    "        pass\n",
    "    \n",
    "    @property\n",
    "    def class_material(self):\n",
    "        pass"
   ]
  },
  {
   "cell_type": "code",
   "execution_count": 76,
   "id": "5158f316-b3f3-474d-88d9-bbcabf98f206",
   "metadata": {},
   "outputs": [],
   "source": [
    "c = pwskills_mentor()"
   ]
  },
  {
   "cell_type": "code",
   "execution_count": 77,
   "id": "4b0bd760-44ea-43be-8e36-d51cf39ef2c5",
   "metadata": {},
   "outputs": [
    {
     "name": "stdout",
     "output_type": "stream",
     "text": [
      "this is function of dsm class\n"
     ]
    },
    {
     "ename": "TypeError",
     "evalue": "'NoneType' object is not callable",
     "output_type": "error",
     "traceback": [
      "\u001b[0;31m---------------------------------------------------------------------------\u001b[0m",
      "\u001b[0;31mTypeError\u001b[0m                                 Traceback (most recent call last)",
      "Cell \u001b[0;32mIn [77], line 1\u001b[0m\n\u001b[0;32m----> 1\u001b[0m \u001b[43mc\u001b[49m\u001b[38;5;241;43m.\u001b[39;49m\u001b[43mdsm_class\u001b[49m\u001b[43m(\u001b[49m\u001b[43m)\u001b[49m\n",
      "\u001b[0;31mTypeError\u001b[0m: 'NoneType' object is not callable"
     ]
    }
   ],
   "source": [
    "c.dsm_class()"
   ]
  },
  {
   "cell_type": "code",
   "execution_count": null,
   "id": "507b1587-a429-4f35-973b-05f307d1031f",
   "metadata": {},
   "outputs": [],
   "source": []
  }
 ],
 "metadata": {
  "kernelspec": {
   "display_name": "Python 3 (ipykernel)",
   "language": "python",
   "name": "python3"
  },
  "language_info": {
   "codemirror_mode": {
    "name": "ipython",
    "version": 3
   },
   "file_extension": ".py",
   "mimetype": "text/x-python",
   "name": "python",
   "nbconvert_exporter": "python",
   "pygments_lexer": "ipython3",
   "version": "3.10.6"
  }
 },
 "nbformat": 4,
 "nbformat_minor": 5
}
